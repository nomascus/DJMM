{
 "cells": [
  {
   "cell_type": "markdown",
   "metadata": {},
   "source": [
    "# 1) Conversion of music file to DNA fasta file"
   ]
  },
  {
   "cell_type": "markdown",
   "metadata": {},
   "source": [
    "### 1.1) Conversion of sounds to frequencies"
   ]
  },
  {
   "cell_type": "markdown",
   "metadata": {},
   "source": [
    "Information about song"
   ]
  },
  {
   "cell_type": "code",
   "execution_count": 31,
   "metadata": {},
   "outputs": [],
   "source": [
    "songname = 'do_re_mi'\n",
    "year = '1965'\n",
    "genre = 'Pop'\n",
    "\n",
    "do_re_mi = ['C', 'D2', 'E', ' ', 'C', 'E2', 'C2', 'E', ' ', 'D', 'E2', 'F', ' ', 'F', 'E2', 'D2', 'F', ' ', 'E', 'F2', 'G', ' ' , 'E2', 'G', 'E2', 'G', ' ', 'F', 'G2', 'A2', 'A', 'G', 'F', 'A']"
   ]
  },
  {
   "cell_type": "markdown",
   "metadata": {},
   "source": []
  },
  {
   "cell_type": "code",
   "execution_count": null,
   "metadata": {},
   "outputs": [],
   "source": []
  },
  {
   "cell_type": "markdown",
   "metadata": {},
   "source": []
  },
  {
   "cell_type": "code",
   "execution_count": null,
   "metadata": {},
   "outputs": [],
   "source": []
  },
  {
   "cell_type": "markdown",
   "metadata": {},
   "source": [
    "### 1.2) Conversion of frequencies to notes"
   ]
  },
  {
   "cell_type": "markdown",
   "metadata": {},
   "source": []
  },
  {
   "cell_type": "code",
   "execution_count": null,
   "metadata": {},
   "outputs": [],
   "source": []
  },
  {
   "cell_type": "markdown",
   "metadata": {},
   "source": []
  },
  {
   "cell_type": "code",
   "execution_count": null,
   "metadata": {},
   "outputs": [],
   "source": []
  },
  {
   "cell_type": "markdown",
   "metadata": {},
   "source": [
    "### 1.3) Conversion of notes to nucleotides"
   ]
  },
  {
   "cell_type": "markdown",
   "metadata": {},
   "source": [
    "Notes Dictionary: Notes/Keys are assigned a numeric value. The '2' version of each key is designated as the half note"
   ]
  },
  {
   "cell_type": "code",
   "execution_count": 22,
   "metadata": {},
   "outputs": [],
   "source": [
    "key_dict = {'C':'1', 'C2':'2', 'C#':'3', 'Db':'3', 'C#2':'4', 'Db2':'4', 'D':'5', 'D2':'6', 'D#':'7', 'Eb':'7', 'D#2':'8', 'Eb2':'8', 'E':'9', 'E2': '10', 'F':'11', 'F2':'12', 'F#':'13', 'Gb':'13', 'F#2':'14', 'Gb2':'14', 'G':'15', 'G2':'16', 'G#':'17', 'Ab':'17', 'G#2':'18', 'Ab2':'18', 'A':'19', 'A2':'20', 'A#':'21', 'Bb':'21', 'A#2':'22', 'Bb2':'22', 'B':'23', 'B2':'24', 'C3':'25', 'C4':'26', 'C#3':'27', 'Db3':'27', 'C#4':'28', 'Db4':'28', 'D3':'29', 'D4':'30', 'D#3':'31', 'Eb3':'31', 'D#4':'32', 'Eb4':'32', 'E3':'33', 'E4':'34', 'F3':'35', 'F4':'36', 'F#3':'37', 'Gb3':'37', 'F#4':'38', 'Gb4':'38', 'G3':'39', 'G4':'40', ' ':'41', ' 2':'42'}"
   ]
  },
  {
   "cell_type": "markdown",
   "metadata": {},
   "source": [
    "Conversion of notes to amino acids: This dictionary accounts for amino acid frequency: Most frequent AA is on the white keys. "
   ]
  },
  {
   "cell_type": "code",
   "execution_count": 23,
   "metadata": {},
   "outputs": [],
   "source": [
    "key_to_codon_dict = {'1':['R1', 'R2', 'R3'], '2':['R4', 'R5', 'R6'], '3':['F1'], '4':['F2'], '5':['N1'], '6':['N2'], '7':['P1', 'P2'], '8':['P3', 'P4'], '9':['D1'], '10':['D2'], '11':['C1'], '12':['C2'], '13':['S1', 'S2', 'S3'], '14':['S4', 'S5', 'S6'], '15':['Q1'], '16':['Q2'], '17':['T1', 'T2'], '18':['T3', 'T4'], '19':['E1'], '20':['E2'], '21':['W'], '22':['W'], '23':['G1', 'G2'], '24':['G3', 'G4'], '25':['H1'], '26':['H2'], '27':['Y1'], '28':['Y2'], '29':['I1', 'I2'], '30':['I3'], '31':['V1', 'V2'], '32':['V3', 'V4'], '33':['L1', 'L2', 'L3'], '34':['L4', 'L5', 'L6'], '35':['K1'], '36':['K2'], '37':['Z1', 'Z2'], '38':['Z3'], '39':['M'], '40':['M'], '41':['A1', 'A2'], '42':['A3', 'A4']}"
   ]
  },
  {
   "cell_type": "markdown",
   "metadata": {},
   "source": [
    "Conversion of amino acids to nucleotide triplets: stop codon was assigned Z"
   ]
  },
  {
   "cell_type": "code",
   "execution_count": 24,
   "metadata": {},
   "outputs": [],
   "source": [
    "codon_to_nt_dict = {'F1':'TTT', 'F2':'TTC', 'L1':'TTA', 'L2':'TTG', 'L3':'CTT', 'L4':'CTC', 'L5':'CTA', 'L6':'CTG', 'I1':'ATT', 'I2':'ATC', 'I3': 'ATA', 'M': 'ATG', 'V1': 'GTT', 'V2':'GTC', 'V3':'GTA', 'V4':'GTG', 'S1':'TCT', 'S2':'TCC', 'S3':'TCA', 'S4':'TCG', 'S5':'AGT', 'S6':'AGC', 'P1':'CCT', 'P2':'CCC', 'P3':'CCA', 'P4':'CCG', 'T1':'ACT', 'T2':'ACC', 'T3':'ACA', 'T4':'ACG', 'A1':'GCT', 'A2':'GCC', 'A3':'GCA', 'A4':'GCG', 'Y1':'TAT', 'Y2': 'TAC', 'Z1':'TAA', 'Z2':'TAG', 'Z3':'TGA', 'H1':'CAT', 'H2':'CAC', 'Q1':'CAA', 'Q2':'CAG', 'N1':'AAT', 'N2':'AAC', 'K1':'AAA', 'K2':'AAG', 'D1':'GAT', 'D2':'GAC', 'E1':'GAA', 'E2':'GAG', 'C1':'TGT', 'C2':'TGC', 'W':'TGG', 'R1':'CGT', 'R2':'CGC', 'R3':'CGA', 'R4':'CGG', 'R5':'AGA', 'R6':'AGG', 'G1':'GGT', 'G2':'GGC', 'G3':'GGA', 'G4':'GGG'}"
   ]
  },
  {
   "cell_type": "markdown",
   "metadata": {},
   "source": [
    "Function to convert a song input into nucleotide sequence"
   ]
  },
  {
   "cell_type": "code",
   "execution_count": 26,
   "metadata": {},
   "outputs": [
    {
     "name": "stdout",
     "output_type": "stream",
     "text": [
      "['R3', 'N2', 'D1', 'A2', 'R1', 'D2', 'R4', 'D1', 'A2', 'N1', 'D2', 'C1', 'A2', 'C1', 'D2', 'N2', 'C1', 'A2', 'D1', 'C2', 'Q1', 'A2', 'D2', 'Q1', 'D2', 'Q1', 'A1', 'C1', 'Q2', 'E2', 'E1', 'Q1', 'C1', 'E1']\n"
     ]
    }
   ],
   "source": [
    "import random\n",
    "\n",
    "numbers =[]\n",
    "note_to_codons = []\n",
    "for note in do_re_mi:\n",
    "    number = key_dict[note]\n",
    "    numbers.append(number)\n",
    "\n",
    "for num in numbers:\n",
    "    codons = key_to_codon_dict[num]\n",
    "    if len(codons) ==1:\n",
    "        associated_codon = key_to_codon_dict[num][0]\n",
    "        note_to_codons.append(associated_codon)\n",
    "    elif len(codons) >1:\n",
    "        random_number = int(random.randrange(0, len(codons)))\n",
    "        associated_codon = key_to_codon_dict[num][random_number]\n",
    "        note_to_codons.append(associated_codon)\n",
    "print(note_to_codons)\n",
    "\n",
    "sequence = ''\n",
    "for aa in note_to_codons:\n",
    "    nt = codon_to_nt_dict[aa]\n",
    "    sequence+=nt"
   ]
  },
  {
   "cell_type": "markdown",
   "metadata": {},
   "source": [
    "Make a fasta file containing nucleotide sequence"
   ]
  },
  {
   "cell_type": "code",
   "execution_count": 35,
   "metadata": {},
   "outputs": [
    {
     "name": "stdout",
     "output_type": "stream",
     "text": [
      ">do_re_mi\t1965\tPop\n",
      "CGAAACGATGCCCGTGACCGGGATGCCAATGACTGTGCCTGTGACAACTGTGCCGATTGCCAAGCCGACCAAGACCAAGCTTGTCAGGAGGAACAATGTGAA\n"
     ]
    }
   ],
   "source": [
    "fasta_file = '>' + songname + '\\t' + year + '\\t' + genre + '\\n' + sequence\n",
    "print(fasta_file)\n",
    "\n",
    "\n"
   ]
  },
  {
   "cell_type": "markdown",
   "metadata": {},
   "source": [
    "# 2) Blasting of DNA "
   ]
  },
  {
   "cell_type": "markdown",
   "metadata": {},
   "source": [
    "Importing all the modules that we need to run the blast program."
   ]
  },
  {
   "cell_type": "code",
   "execution_count": 37,
   "metadata": {},
   "outputs": [
    {
     "ename": "FileNotFoundError",
     "evalue": "[Errno 2] No such file or directory: 'test5.txt'",
     "output_type": "error",
     "traceback": [
      "\u001b[0;31m---------------------------------------------------------------------------\u001b[0m",
      "\u001b[0;31mFileNotFoundError\u001b[0m                         Traceback (most recent call last)",
      "\u001b[0;32m<ipython-input-37-4fbecf11272f>\u001b[0m in \u001b[0;36m<module>\u001b[0;34m()\u001b[0m\n\u001b[1;32m      4\u001b[0m \u001b[0;31m#filename = blastoutput.txt #we will have the general output from the blast be blastoutput.txt that way it is easy to bring in\u001b[0m\u001b[0;34m\u001b[0m\u001b[0;34m\u001b[0m\u001b[0m\n\u001b[1;32m      5\u001b[0m \u001b[0;34m\u001b[0m\u001b[0m\n\u001b[0;32m----> 6\u001b[0;31m \u001b[0;32mfor\u001b[0m \u001b[0mQueryResult\u001b[0m \u001b[0;32min\u001b[0m \u001b[0mSearchIO\u001b[0m\u001b[0;34m.\u001b[0m\u001b[0mparse\u001b[0m\u001b[0;34m(\u001b[0m\u001b[0mfilename\u001b[0m\u001b[0;34m,\u001b[0m \u001b[0;34m'blast-text'\u001b[0m\u001b[0;34m)\u001b[0m\u001b[0;34m:\u001b[0m\u001b[0;31m#parses the query name\u001b[0m\u001b[0;34m\u001b[0m\u001b[0m\n\u001b[0m\u001b[1;32m      7\u001b[0m         \u001b[0mprint\u001b[0m\u001b[0;34m(\u001b[0m\u001b[0;34m'Query name:'\u001b[0m\u001b[0;34m,\u001b[0m\u001b[0mQueryResult\u001b[0m\u001b[0;34m.\u001b[0m\u001b[0mid\u001b[0m\u001b[0;34m)\u001b[0m\u001b[0;31m#prints the query name\u001b[0m\u001b[0;34m\u001b[0m\u001b[0m\n\u001b[1;32m      8\u001b[0m \u001b[0;34m\u001b[0m\u001b[0m\n",
      "\u001b[0;32m/usr/local/anaconda/lib/python3.7/site-packages/Bio/SearchIO/__init__.py\u001b[0m in \u001b[0;36mparse\u001b[0;34m(handle, format, **kwargs)\u001b[0m\n\u001b[1;32m    303\u001b[0m \u001b[0;34m\u001b[0m\u001b[0m\n\u001b[1;32m    304\u001b[0m     \u001b[0;31m# and start iterating\u001b[0m\u001b[0;34m\u001b[0m\u001b[0;34m\u001b[0m\u001b[0m\n\u001b[0;32m--> 305\u001b[0;31m     \u001b[0;32mwith\u001b[0m \u001b[0mas_handle\u001b[0m\u001b[0;34m(\u001b[0m\u001b[0mhandle\u001b[0m\u001b[0;34m,\u001b[0m \u001b[0;34m'rU'\u001b[0m\u001b[0;34m,\u001b[0m \u001b[0;34m**\u001b[0m\u001b[0mhandle_kwargs\u001b[0m\u001b[0;34m)\u001b[0m \u001b[0;32mas\u001b[0m \u001b[0msource_file\u001b[0m\u001b[0;34m:\u001b[0m\u001b[0;34m\u001b[0m\u001b[0m\n\u001b[0m\u001b[1;32m    306\u001b[0m         \u001b[0mgenerator\u001b[0m \u001b[0;34m=\u001b[0m \u001b[0miterator\u001b[0m\u001b[0;34m(\u001b[0m\u001b[0msource_file\u001b[0m\u001b[0;34m,\u001b[0m \u001b[0;34m**\u001b[0m\u001b[0mkwargs\u001b[0m\u001b[0;34m)\u001b[0m\u001b[0;34m\u001b[0m\u001b[0m\n\u001b[1;32m    307\u001b[0m \u001b[0;34m\u001b[0m\u001b[0m\n",
      "\u001b[0;32m/usr/local/anaconda/lib/python3.7/contextlib.py\u001b[0m in \u001b[0;36m__enter__\u001b[0;34m(self)\u001b[0m\n\u001b[1;32m    110\u001b[0m         \u001b[0;32mdel\u001b[0m \u001b[0mself\u001b[0m\u001b[0;34m.\u001b[0m\u001b[0margs\u001b[0m\u001b[0;34m,\u001b[0m \u001b[0mself\u001b[0m\u001b[0;34m.\u001b[0m\u001b[0mkwds\u001b[0m\u001b[0;34m,\u001b[0m \u001b[0mself\u001b[0m\u001b[0;34m.\u001b[0m\u001b[0mfunc\u001b[0m\u001b[0;34m\u001b[0m\u001b[0m\n\u001b[1;32m    111\u001b[0m         \u001b[0;32mtry\u001b[0m\u001b[0;34m:\u001b[0m\u001b[0;34m\u001b[0m\u001b[0m\n\u001b[0;32m--> 112\u001b[0;31m             \u001b[0;32mreturn\u001b[0m \u001b[0mnext\u001b[0m\u001b[0;34m(\u001b[0m\u001b[0mself\u001b[0m\u001b[0;34m.\u001b[0m\u001b[0mgen\u001b[0m\u001b[0;34m)\u001b[0m\u001b[0;34m\u001b[0m\u001b[0m\n\u001b[0m\u001b[1;32m    113\u001b[0m         \u001b[0;32mexcept\u001b[0m \u001b[0mStopIteration\u001b[0m\u001b[0;34m:\u001b[0m\u001b[0;34m\u001b[0m\u001b[0m\n\u001b[1;32m    114\u001b[0m             \u001b[0;32mraise\u001b[0m \u001b[0mRuntimeError\u001b[0m\u001b[0;34m(\u001b[0m\u001b[0;34m\"generator didn't yield\"\u001b[0m\u001b[0;34m)\u001b[0m \u001b[0;32mfrom\u001b[0m \u001b[0;32mNone\u001b[0m\u001b[0;34m\u001b[0m\u001b[0m\n",
      "\u001b[0;32m/usr/local/anaconda/lib/python3.7/site-packages/Bio/File.py\u001b[0m in \u001b[0;36mas_handle\u001b[0;34m(handleish, mode, **kwargs)\u001b[0m\n\u001b[1;32m     99\u001b[0m                 \u001b[0;32myield\u001b[0m \u001b[0mfp\u001b[0m\u001b[0;34m\u001b[0m\u001b[0m\n\u001b[1;32m    100\u001b[0m         \u001b[0;32melse\u001b[0m\u001b[0;34m:\u001b[0m\u001b[0;34m\u001b[0m\u001b[0m\n\u001b[0;32m--> 101\u001b[0;31m             \u001b[0;32mwith\u001b[0m \u001b[0mopen\u001b[0m\u001b[0;34m(\u001b[0m\u001b[0mhandleish\u001b[0m\u001b[0;34m,\u001b[0m \u001b[0mmode\u001b[0m\u001b[0;34m,\u001b[0m \u001b[0;34m**\u001b[0m\u001b[0mkwargs\u001b[0m\u001b[0;34m)\u001b[0m \u001b[0;32mas\u001b[0m \u001b[0mfp\u001b[0m\u001b[0;34m:\u001b[0m\u001b[0;34m\u001b[0m\u001b[0m\n\u001b[0m\u001b[1;32m    102\u001b[0m                 \u001b[0;32myield\u001b[0m \u001b[0mfp\u001b[0m\u001b[0;34m\u001b[0m\u001b[0m\n\u001b[1;32m    103\u001b[0m     \u001b[0;32melse\u001b[0m\u001b[0;34m:\u001b[0m\u001b[0;34m\u001b[0m\u001b[0m\n",
      "\u001b[0;31mFileNotFoundError\u001b[0m: [Errno 2] No such file or directory: 'test5.txt'"
     ]
    }
   ],
   "source": [
    "import time\n",
    "import os\n",
    "import re\n",
    "from Bio import SearchIO\n",
    "import webbrowser\n",
    "from fpdf import FPDF\n",
    "from IPython.display import Image\n"
   ]
  },
  {
   "cell_type": "code",
   "execution_count": null,
   "metadata": {},
   "outputs": [],
   "source": []
  },
  {
   "cell_type": "markdown",
   "metadata": {},
   "source": [
    "# 3) PCA to determine organism that music might relate to"
   ]
  },
  {
   "cell_type": "markdown",
   "metadata": {},
   "source": [
    "### 3.1) Dictionaries containing counts of nt and aa   "
   ]
  },
  {
   "cell_type": "markdown",
   "metadata": {},
   "source": [
    "Creation of fasta file with header containing song name, organism (from Blast), year song was released and genre of song"
   ]
  },
  {
   "cell_type": "code",
   "execution_count": null,
   "metadata": {},
   "outputs": [],
   "source": [
    "fasta_file = '>' + songname + '\\t' + organism +'\\t' + year + '\\t' + genre + '\\n' + sequence\n",
    "print(fasta_file)"
   ]
  },
  {
   "cell_type": "markdown",
   "metadata": {},
   "source": [
    "Opening of fasta file input and creation of dictionaries "
   ]
  },
  {
   "cell_type": "code",
   "execution_count": 1,
   "metadata": {},
   "outputs": [],
   "source": [
    "#import sys\n",
    "\n",
    "#fasta_sequence = sys.argv[1]\n",
    "#open_fasta_sequence = open (fasta_sequence , \"r\")\n",
    "\n",
    "open_fasta_sequence = open('/projects/djmm/spa/sequences.fa', \"r\")\n",
    "\n",
    "nucleotide_dict = {}\n",
    "nucleotide_comp = {}\n",
    "amino_acid_comp ={}\n",
    "seq_id = ''\n",
    "final_dict ={}"
   ]
  },
  {
   "cell_type": "markdown",
   "metadata": {},
   "source": [
    "Dictionary with nucleotide counts"
   ]
  },
  {
   "cell_type": "code",
   "execution_count": 2,
   "metadata": {},
   "outputs": [],
   "source": [
    "import re\n",
    "\n",
    "for line in open_fasta_sequence:\n",
    "    line = line.rstrip()\n",
    "    if line.startswith('>'):\n",
    "        for (seq_id, organism, year, genre) in re.findall(r'>(\\S+)\\s\\w+=(\\w+)\\s\\w+=(\\d+)\\s\\w+=(\\w+)', line):\n",
    "            nucleotide_dict[seq_id] = ''\n",
    "    else:\n",
    "        if seq_id in nucleotide_dict:\n",
    "            nucleotide_dict[seq_id] += line\n",
    "        else:\n",
    "            nucleotide_dict[seq_id] = line\n",
    "\n",
    "#create a dictioary with nucleotide count\n",
    "for seq_id in nucleotide_dict:\n",
    "    sequence = nucleotide_dict[seq_id]\n",
    "    a_count = sequence.count('A')\n",
    "    c_count = sequence.count('C')\n",
    "    g_count = sequence.count('G')\n",
    "    t_count = sequence.count('T')\n",
    "    nucleotide_comp[seq_id] = {'nucA':a_count,'nucC':c_count,'nucG':g_count,'nucT':t_count}"
   ]
  },
  {
   "cell_type": "markdown",
   "metadata": {},
   "source": [
    "Dictinoary with amino acid composition"
   ]
  },
  {
   "cell_type": "code",
   "execution_count": 3,
   "metadata": {},
   "outputs": [],
   "source": [
    "from Bio.Seq import Seq\n",
    "from Bio.SeqUtils.ProtParam import ProteinAnalysis\n",
    "\n",
    "for seq_id in nucleotide_dict:\n",
    "    sequence = nucleotide_dict[seq_id]\n",
    "    seqobj = Seq(sequence)\n",
    "    seq_str=str(seqobj)\n",
    "    protein = seqobj.translate()\n",
    "    prot_str = str(protein)\n",
    "    amino_acid_comp[seq_id] = prot_str\n",
    "\n",
    "for seq_id in amino_acid_comp:\n",
    "    prot_str = amino_acid_comp[seq_id]\n",
    "    prot_obj = ProteinAnalysis(prot_str)\n",
    "    count_aa = prot_obj.count_amino_acids()\n",
    "    amino_acid_comp[seq_id] = count_aa"
   ]
  },
  {
   "cell_type": "markdown",
   "metadata": {},
   "source": [
    "Dictionary with organism name"
   ]
  },
  {
   "cell_type": "code",
   "execution_count": 5,
   "metadata": {},
   "outputs": [],
   "source": [
    "open_fasta_sequence = open('/projects/djmm/spa/sequences.fa', \"r\")\n",
    "\n",
    "organism_dict = {}\n",
    "\n",
    "for line in open_fasta_sequence:\n",
    "    line = line.rstrip()\n",
    "    if line.startswith('>'):\n",
    "        for (seq_id, organism, year, genre) in re.findall(r'>(\\S+)\\s\\w+=(\\w+)\\s\\w+=(\\d+)\\s\\w+=(\\w+)', line):\n",
    "            organism_dict[seq_id] = organism"
   ]
  },
  {
   "cell_type": "markdown",
   "metadata": {},
   "source": [
    "### 3.2) Dataframes containing nt and aa counts and organism of DNA strings"
   ]
  },
  {
   "cell_type": "code",
   "execution_count": 7,
   "metadata": {},
   "outputs": [],
   "source": [
    "import pandas as pd\n",
    "import numpy as np\n",
    "\n",
    "aa_df = pd.DataFrame.from_dict(amino_acid_comp)\n",
    "nt_df = pd.DataFrame.from_dict(nucleotide_comp)\n",
    "organism_df = pd.Series(organism_dict).to_frame().transpose()\n",
    "organism_df = organism_df.rename({0: 'organism'}, axis='index')\n",
    "\n",
    "seq_df = pd.concat([aa_df, nt_df, organism_df]).transpose()"
   ]
  },
  {
   "cell_type": "markdown",
   "metadata": {},
   "source": [
    "### 3.3) Calculation and plotting of principal components "
   ]
  },
  {
   "cell_type": "markdown",
   "metadata": {},
   "source": [
    "Standardization of data frame onto unit scale (mean=0, variance=1)"
   ]
  },
  {
   "cell_type": "code",
   "execution_count": 10,
   "metadata": {},
   "outputs": [
    {
     "name": "stderr",
     "output_type": "stream",
     "text": [
      "/usr/local/anaconda/lib/python3.7/site-packages/sklearn/utils/validation.py:475: DataConversionWarning: Data with input dtype object was converted to float64 by StandardScaler.\n",
      "  warnings.warn(msg, DataConversionWarning)\n"
     ]
    }
   ],
   "source": [
    "from sklearn.preprocessing import StandardScaler\n",
    "\n",
    "features = list(seq_df)\n",
    "features.remove('organism')\n",
    "\n",
    "x = seq_df.loc[:, features].values\n",
    "\n",
    "y = seq_df.loc[:,['organism']].values\n",
    "\n",
    "x_stand = StandardScaler().fit_transform(x)"
   ]
  },
  {
   "cell_type": "markdown",
   "metadata": {},
   "source": [
    "Calculation of principal components"
   ]
  },
  {
   "cell_type": "code",
   "execution_count": 15,
   "metadata": {},
   "outputs": [],
   "source": [
    "from sklearn.decomposition import PCA\n",
    "\n",
    "pca = PCA(n_components=2)\n",
    "pca_components = pca.fit_transform(x_stand)\n",
    "\n",
    "principal_df = pd.DataFrame(data = pca_components\n",
    "             , columns = ['PC1', 'PC2'], index = seq_df.index)\n",
    "\n",
    "final_df = pd.concat([principal_df, seq_df[['organism']]], axis = 'columns')\n"
   ]
  },
  {
   "cell_type": "markdown",
   "metadata": {},
   "source": [
    "Plotting of PCA"
   ]
  },
  {
   "cell_type": "code",
   "execution_count": 13,
   "metadata": {},
   "outputs": [],
   "source": [
    "import matplotlib.pyplot as plt\n",
    "\n",
    "fig = plt.figure(figsize = (8,8))\n",
    "ax = fig.add_subplot(1,1,1)\n",
    "ax.set_xlabel('PC1', fontsize = 15)\n",
    "ax.set_ylabel('PC2', fontsize = 15)\n",
    "ax.set_title('PCA', fontsize = 20)\n",
    "\n",
    "organisms = ['mouse', 'grape', 'cat']\n",
    "colors = ['r', 'g', 'b']\n",
    "\n",
    "for organism, color in zip(organisms,colors):\n",
    "    indicesToKeep = final_df['organism'] == organism\n",
    "    ax.scatter(final_df.loc[indicesToKeep, 'PC1']\n",
    "               , final_df.loc[indicesToKeep, 'PC2']\n",
    "               , c = color\n",
    "               , s = 50)\n",
    "ax.legend(organisms)\n",
    "ax.grid()"
   ]
  },
  {
   "cell_type": "markdown",
   "metadata": {},
   "source": [
    "Saving and opening of PDF file with PCA graph"
   ]
  },
  {
   "cell_type": "code",
   "execution_count": 16,
   "metadata": {},
   "outputs": [
    {
     "data": {
      "image/png": "[encoded data removed]",
      "text/plain": [
       "<IPython.core.display.Image object>"
      ]
     },
     "execution_count": 16,
     "metadata": {},
     "output_type": "execute_result"
    }
   ],
   "source": [
    "fig.savefig('PCA_music2DNA.png', bbox_inches='tight')\n",
    "\n",
    "#import os\n",
    "#dir_path = os.path.dirname(os.path.realpath('PCA_music2DNA.pdf'))\n",
    "#print(dir_path)\n",
    "\n",
    "#import webbrowser\n",
    "#webbrowser.open_new(r'file:'+dir_path+'/PCA_music2DNA.pdf')\n",
    "\n",
    "from IPython.display import Image\n",
    "\n",
    "fig = Image(filename=('PCA_music2DNA.png'))\n",
    "fig"
   ]
  }
 ],
 "metadata": {
  "kernelspec": {
   "display_name": "Python 3",
   "language": "python",
   "name": "python3"
  },
  "language_info": {
   "codemirror_mode": {
    "name": "ipython",
    "version": 3
   },
   "file_extension": ".py",
   "mimetype": "text/x-python",
   "name": "python",
   "nbconvert_exporter": "python",
   "pygments_lexer": "ipython3",
   "version": "3.7.0"
  }
 },
 "nbformat": 4,
 "nbformat_minor": 2
}
